{
 "cells": [
  {
   "cell_type": "markdown",
   "metadata": {},
   "source": [
    "## Taking a deep dive in NLP techniques with the famous Kaggle competition Quora Insincere Questions Classification problem. "
   ]
  },
  {
   "cell_type": "code",
   "execution_count": 1,
   "metadata": {
    "_cell_guid": "b1076dfc-b9ad-4769-8c92-a6c4dae69d19",
    "_uuid": "8f2839f25d086af736a60e9eeb907d3b93b6e0e5"
   },
   "outputs": [
    {
     "name": "stdout",
     "output_type": "stream",
     "text": [
      "['sample_submission.csv', 'embeddings.zip', 'test.csv', 'train.csv']\n"
     ]
    }
   ],
   "source": [
    "import numpy as np # linear algebra\n",
    "import pandas as pd # data processing, CSV file I/O (e.g. pd.read_csv)\n",
    "import os\n",
    "print(os.listdir(\"../input\"))\n",
    "import matplotlib.pyplot as plt\n",
    "import seaborn as sns\n",
    "# sns.set()"
   ]
  },
  {
   "cell_type": "code",
   "execution_count": 2,
   "metadata": {},
   "outputs": [],
   "source": [
    "df_train = pd.read_csv(\"../input/train.csv\",index_col='qid')\n",
    "df_test = pd.read_csv(\"../input/test.csv\",index_col='qid')\n",
    "#df = pd.concat([df_train ,df_test],sort=True)"
   ]
  },
  {
   "cell_type": "code",
   "execution_count": 3,
   "metadata": {},
   "outputs": [
    {
     "name": "stdout",
     "output_type": "stream",
     "text": [
      "<class 'pandas.core.frame.DataFrame'>\n",
      "Index: 1306122 entries, 00002165364db923c7e6 to ffffed09fedb5088744a\n",
      "Data columns (total 2 columns):\n",
      "question_text    1306122 non-null object\n",
      "target           1306122 non-null int64\n",
      "dtypes: int64(1), object(1)\n",
      "memory usage: 29.9+ MB\n"
     ]
    }
   ],
   "source": [
    "df_train.info()"
   ]
  },
  {
   "cell_type": "markdown",
   "metadata": {},
   "source": [
    "# Business Problem"
   ]
  },
  {
   "cell_type": "markdown",
   "metadata": {},
   "source": [
    "## Business problem asks us to classify question texts given to us with the help of the target variable in the training dataset. Given the involvement of text data, it requires to be treated with NLP techniques to be able to extract useful information from text data."
   ]
  },
  {
   "cell_type": "code",
   "execution_count": 4,
   "metadata": {},
   "outputs": [
    {
     "data": {
      "text/html": [
       "<div>\n",
       "<style scoped>\n",
       "    .dataframe tbody tr th:only-of-type {\n",
       "        vertical-align: middle;\n",
       "    }\n",
       "\n",
       "    .dataframe tbody tr th {\n",
       "        vertical-align: top;\n",
       "    }\n",
       "\n",
       "    .dataframe thead th {\n",
       "        text-align: right;\n",
       "    }\n",
       "</style>\n",
       "<table border=\"1\" class=\"dataframe\">\n",
       "  <thead>\n",
       "    <tr style=\"text-align: right;\">\n",
       "      <th></th>\n",
       "      <th>question_text</th>\n",
       "      <th>target</th>\n",
       "    </tr>\n",
       "    <tr>\n",
       "      <th>qid</th>\n",
       "      <th></th>\n",
       "      <th></th>\n",
       "    </tr>\n",
       "  </thead>\n",
       "  <tbody>\n",
       "    <tr>\n",
       "      <th>00002165364db923c7e6</th>\n",
       "      <td>How did Quebec nationalists see their province...</td>\n",
       "      <td>0</td>\n",
       "    </tr>\n",
       "    <tr>\n",
       "      <th>000032939017120e6e44</th>\n",
       "      <td>Do you have an adopted dog, how would you enco...</td>\n",
       "      <td>0</td>\n",
       "    </tr>\n",
       "    <tr>\n",
       "      <th>0000412ca6e4628ce2cf</th>\n",
       "      <td>Why does velocity affect time? Does velocity a...</td>\n",
       "      <td>0</td>\n",
       "    </tr>\n",
       "    <tr>\n",
       "      <th>000042bf85aa498cd78e</th>\n",
       "      <td>How did Otto von Guericke used the Magdeburg h...</td>\n",
       "      <td>0</td>\n",
       "    </tr>\n",
       "    <tr>\n",
       "      <th>0000455dfa3e01eae3af</th>\n",
       "      <td>Can I convert montra helicon D to a mountain b...</td>\n",
       "      <td>0</td>\n",
       "    </tr>\n",
       "  </tbody>\n",
       "</table>\n",
       "</div>"
      ],
      "text/plain": [
       "                                                          question_text  target\n",
       "qid                                                                            \n",
       "00002165364db923c7e6  How did Quebec nationalists see their province...       0\n",
       "000032939017120e6e44  Do you have an adopted dog, how would you enco...       0\n",
       "0000412ca6e4628ce2cf  Why does velocity affect time? Does velocity a...       0\n",
       "000042bf85aa498cd78e  How did Otto von Guericke used the Magdeburg h...       0\n",
       "0000455dfa3e01eae3af  Can I convert montra helicon D to a mountain b...       0"
      ]
     },
     "execution_count": 4,
     "metadata": {},
     "output_type": "execute_result"
    }
   ],
   "source": [
    "df_train.head()"
   ]
  },
  {
   "cell_type": "code",
   "execution_count": 5,
   "metadata": {},
   "outputs": [
    {
     "data": {
      "text/plain": [
       "0    1225312\n",
       "1      80810\n",
       "Name: target, dtype: int64"
      ]
     },
     "execution_count": 5,
     "metadata": {},
     "output_type": "execute_result"
    }
   ],
   "source": [
    "df_train['target'].value_counts()"
   ]
  },
  {
   "cell_type": "code",
   "execution_count": 6,
   "metadata": {},
   "outputs": [],
   "source": [
    "df_train.dropna(inplace=True)"
   ]
  },
  {
   "cell_type": "markdown",
   "metadata": {},
   "source": [
    "# Time for some NLP"
   ]
  },
  {
   "cell_type": "markdown",
   "metadata": {},
   "source": [
    "# Bag of Words\n",
    " The bag-of-words model is simple to understand and implement. It is a way of extracting features from the text for use in machine learning algorithms.In this approach, we use the tokenized words for each observation and find out the frequency of each token.\n",
    "Let’s take an example to understand this concept in depth.\n",
    "\n",
    "* “It was the best of times”\n",
    "* “It was the worst of times”\n",
    "* “It was the age of wisdom”\n",
    "* “It was the age of foolishness”\n",
    "\n",
    "We treat each sentence as a separate document and we make a list of all words from all the four documents excluding the punctuation. We get,\n",
    "\n",
    "‘It’,  ‘was’,  ‘the’,  ‘best’,  ‘of’,  ‘times’,  ‘worst’,  ‘age’,  ‘wisdom’,  ‘foolishness’\n",
    "\n",
    "The next step is the create vectors. Vectors convert text that can be used by the machine learning algorithm.\n",
    "\n",
    "We take the first document — “It was the best of times” and we check the frequency of words from the 10 unique words.\n",
    "* “it” = 1\n",
    "* “was” = 1\n",
    "* “the” = 1\n",
    "* “best” = 1\n",
    "* “of” = 1\n",
    "* “times” = 1\n",
    "* “worst” = 0\n",
    "* “age” = 0\n",
    "* “wisdom” = 0\n",
    "* “foolishness” = 0"
   ]
  },
  {
   "cell_type": "markdown",
   "metadata": {},
   "source": [
    "#### Rest of the documents will be:\n",
    "* “It was the best of times” = [1, 1, 1, 1, 1, 1, 0, 0, 0, 0]\n",
    "* “It was the worst of times” = [1, 1, 1, 0, 1, 1, 1, 0, 0, 0]\n",
    "* “It was the age of wisdom” = [1, 1, 1, 0, 1, 0, 0, 1, 1, 0]\n",
    "* “It was the age of foolishness” = [1, 1, 1, 0, 1, 0, 0, 1, 0, 1]"
   ]
  },
  {
   "cell_type": "markdown",
   "metadata": {},
   "source": [
    "#### In this approach, each word or token is called a “gram”. Creating a vocabulary of two-word pairs is called a bigram model.\n",
    "\n",
    "For example, the bigrams in the first document : “It was the best of times” are as follows:\n",
    "* “it was”\n",
    "* “was the”\n",
    "* “the best”\n",
    "* “best of”\n",
    "* “of times”"
   ]
  },
  {
   "cell_type": "markdown",
   "metadata": {},
   "source": [
    "# Vectorization\n",
    "\n",
    "#### The process of converting NLP text into numbers is called vectorization in ML. Different ways to convert text into vectors are:\n",
    "\n",
    "* Counting the number of times each word appears in a document.\n",
    "* Calculating the frequency that each word appears in a document out of all the words in the document."
   ]
  },
  {
   "cell_type": "markdown",
   "metadata": {},
   "source": [
    "## 1. CountVectorizer\n",
    "CountVectorizer works on Terms Frequency, i.e. counting the occurrences of tokens and building a sparse matrix of documents x tokens."
   ]
  },
  {
   "cell_type": "code",
   "execution_count": 7,
   "metadata": {},
   "outputs": [
    {
     "data": {
      "text/plain": [
       "CountVectorizer(analyzer='word', binary=False, decode_error='strict',\n",
       "        dtype=<class 'numpy.int64'>, encoding='utf-8', input='content',\n",
       "        lowercase=True, max_df=1.0, max_features=None, min_df=1,\n",
       "        ngram_range=(1, 1), preprocessor=None, stop_words=None,\n",
       "        strip_accents=None, token_pattern='(?u)\\\\b\\\\w\\\\w+\\\\b',\n",
       "        tokenizer=None, vocabulary=None)"
      ]
     },
     "execution_count": 7,
     "metadata": {},
     "output_type": "execute_result"
    }
   ],
   "source": [
    "from sklearn.feature_extraction.text import CountVectorizer, TfidfVectorizer\n",
    "vect = CountVectorizer()\n",
    "vect"
   ]
  },
  {
   "cell_type": "markdown",
   "metadata": {},
   "source": [
    "## 2. TF-IDF Vectorizer\n",
    "TF-IDF stands for term frequency-inverse document frequency. TF-IDF weight is a statistical measure used to evaluate how important a word is to a document in a collection or corpus. The importance increases proportionally to the number of times a word appears in the document but is offset by the frequency of the word in the corpus.\n",
    "\n",
    "**Term Frequency (TF)**: is a scoring of the frequency of the word in the current document. Since every document is different in length, it is possible that a term would appear much more times in long documents than shorter ones. The term frequency is often divided by the document length to normalize.\n",
    "\n",
    "![](https://cdn-images-1.medium.com/max/800/1*SUAeubfQGK_w0XZWQW6V1Q.png)\n",
    "\n",
    "**Inverse Document Frequency** (IDF): is a scoring of how rare the word is across documents. IDF is a measure of how rare a term is. Rarer the term, more is the IDF score.\n",
    "\n",
    "\n",
    "![](https://cdn-images-1.medium.com/max/800/1*T57j-UDzXizqG40FUfmkLw.png)\n",
    "Thus,\n",
    "\n",
    "![](https://cdn-images-1.medium.com/max/800/1*YrgmAeG7KNRB4dQcGcsdyg.png)"
   ]
  },
  {
   "cell_type": "markdown",
   "metadata": {},
   "source": [
    "# Implementation"
   ]
  },
  {
   "cell_type": "markdown",
   "metadata": {},
   "source": [
    "#### Below is a pipeline based LGBM Classifier implementation of the above NLP concept Bag of Words on the Quora business problem."
   ]
  },
  {
   "cell_type": "code",
   "execution_count": 8,
   "metadata": {},
   "outputs": [],
   "source": [
    "from sklearn.pipeline import Pipeline\n",
    "from sklearn.feature_extraction.text import TfidfVectorizer\n",
    "import lightgbm as lgbm\n",
    "\n",
    "\n",
    "text_clf_lgbm = Pipeline([('tfidf', TfidfVectorizer()),\n",
    "                     ('clf', lgbm.LGBMClassifier()),\n",
    "])\n"
   ]
  },
  {
   "cell_type": "code",
   "execution_count": 9,
   "metadata": {},
   "outputs": [],
   "source": [
    "from sklearn.pipeline import Pipeline\n",
    "from sklearn.feature_extraction.text import TfidfVectorizer\n",
    "import lightgbm as lgbm\n",
    "\n",
    "text_clf_lgbm= Pipeline([('tfidf',TfidfVectorizer()),\n",
    "                        ('clf',lgbm.LGBMClassifier())])"
   ]
  },
  {
   "cell_type": "code",
   "execution_count": 10,
   "metadata": {},
   "outputs": [],
   "source": [
    "from sklearn.model_selection import train_test_split\n",
    "\n",
    "X=df_train['question_text']\n",
    "y= df_train['target']\n",
    "\n",
    "#if variable y is a binary categorical variable with values 0 and 1 and there are 25% of zeros and 75% of ones, \n",
    "#stratify=y will make sure that your random split has 25% of 0's and 75% of 1's.\n",
    "X_train, X_test, y_train, y_test= train_test_split(X,y, test_size=0.33, random_state=21,stratify=y )"
   ]
  },
  {
   "cell_type": "code",
   "execution_count": 11,
   "metadata": {},
   "outputs": [],
   "source": [
    "text_clf_lgbm.fit(X_train, y_train)\n",
    "# Form a prediction set\n",
    "predictions = text_clf_lgbm.predict(X_test)"
   ]
  },
  {
   "cell_type": "code",
   "execution_count": 12,
   "metadata": {},
   "outputs": [
    {
     "data": {
      "text/plain": [
       "Text(0.5, 15.0, 'Predicted label')"
      ]
     },
     "execution_count": 12,
     "metadata": {},
     "output_type": "execute_result"
    },
    {
     "data": {
      "image/png": "[encoded data removed]",
      "text/plain": [
       "<Figure size 432x288 with 2 Axes>"
      ]
     },
     "metadata": {},
     "output_type": "display_data"
    }
   ],
   "source": [
    "from sklearn import metrics\n",
    "\n",
    "cnf_matrix=metrics.confusion_matrix(y_test, predictions)\n",
    "p=sns.heatmap(pd.DataFrame(cnf_matrix),annot=True,cmap='YlGnBu', fmt='g')\n",
    "plt.title('Confusion matrix')\n",
    "plt.ylabel('Actual label')\n",
    "plt.xlabel('Predicted label')"
   ]
  },
  {
   "cell_type": "code",
   "execution_count": 13,
   "metadata": {},
   "outputs": [
    {
     "name": "stdout",
     "output_type": "stream",
     "text": [
      "0.9510928701849793\n"
     ]
    }
   ],
   "source": [
    "# Print the overall accuracy\n",
    "print(metrics.accuracy_score(y_test,predictions))"
   ]
  },
  {
   "cell_type": "code",
   "execution_count": 14,
   "metadata": {},
   "outputs": [
    {
     "name": "stdout",
     "output_type": "stream",
     "text": [
      "              precision    recall  f1-score   support\n",
      "\n",
      "           0       0.96      0.99      0.97    404354\n",
      "           1       0.71      0.35      0.47     26667\n",
      "\n",
      "   micro avg       0.95      0.95      0.95    431021\n",
      "   macro avg       0.84      0.67      0.72    431021\n",
      "weighted avg       0.94      0.95      0.94    431021\n",
      "\n"
     ]
    }
   ],
   "source": [
    "print(metrics.classification_report(y_test,predictions))"
   ]
  },
  {
   "cell_type": "markdown",
   "metadata": {},
   "source": [
    "# Submission"
   ]
  },
  {
   "cell_type": "code",
   "execution_count": 15,
   "metadata": {},
   "outputs": [
    {
     "data": {
      "text/html": [
       "<div>\n",
       "<style scoped>\n",
       "    .dataframe tbody tr th:only-of-type {\n",
       "        vertical-align: middle;\n",
       "    }\n",
       "\n",
       "    .dataframe tbody tr th {\n",
       "        vertical-align: top;\n",
       "    }\n",
       "\n",
       "    .dataframe thead th {\n",
       "        text-align: right;\n",
       "    }\n",
       "</style>\n",
       "<table border=\"1\" class=\"dataframe\">\n",
       "  <thead>\n",
       "    <tr style=\"text-align: right;\">\n",
       "      <th></th>\n",
       "      <th>question_text</th>\n",
       "      <th>prediction</th>\n",
       "    </tr>\n",
       "    <tr>\n",
       "      <th>qid</th>\n",
       "      <th></th>\n",
       "      <th></th>\n",
       "    </tr>\n",
       "  </thead>\n",
       "  <tbody>\n",
       "    <tr>\n",
       "      <th>0000163e3ea7c7a74cd7</th>\n",
       "      <td>Why do so many women become so rude and arroga...</td>\n",
       "      <td>1</td>\n",
       "    </tr>\n",
       "    <tr>\n",
       "      <th>00002bd4fb5d505b9161</th>\n",
       "      <td>When should I apply for RV college of engineer...</td>\n",
       "      <td>0</td>\n",
       "    </tr>\n",
       "    <tr>\n",
       "      <th>00007756b4a147d2b0b3</th>\n",
       "      <td>What is it really like to be a nurse practitio...</td>\n",
       "      <td>0</td>\n",
       "    </tr>\n",
       "    <tr>\n",
       "      <th>000086e4b7e1c7146103</th>\n",
       "      <td>Who are entrepreneurs?</td>\n",
       "      <td>0</td>\n",
       "    </tr>\n",
       "    <tr>\n",
       "      <th>0000c4c3fbe8785a3090</th>\n",
       "      <td>Is education really making good people nowadays?</td>\n",
       "      <td>0</td>\n",
       "    </tr>\n",
       "  </tbody>\n",
       "</table>\n",
       "</div>"
      ],
      "text/plain": [
       "                                                          question_text  prediction\n",
       "qid                                                                                \n",
       "0000163e3ea7c7a74cd7  Why do so many women become so rude and arroga...           1\n",
       "00002bd4fb5d505b9161  When should I apply for RV college of engineer...           0\n",
       "00007756b4a147d2b0b3  What is it really like to be a nurse practitio...           0\n",
       "000086e4b7e1c7146103                             Who are entrepreneurs?           0\n",
       "0000c4c3fbe8785a3090   Is education really making good people nowadays?           0"
      ]
     },
     "execution_count": 15,
     "metadata": {},
     "output_type": "execute_result"
    }
   ],
   "source": [
    "df_test['prediction'] = text_clf_lgbm.predict(df_test['question_text'])\n",
    "df_test.head()"
   ]
  },
  {
   "cell_type": "code",
   "execution_count": 16,
   "metadata": {},
   "outputs": [],
   "source": [
    "df_test.drop(['question_text'],axis=1,inplace=True)\n",
    "df_test.to_csv('submission.csv',index=True)"
   ]
  },
  {
   "cell_type": "code",
   "execution_count": 17,
   "metadata": {},
   "outputs": [
    {
     "data": {
      "text/html": [
       "<div>\n",
       "<style scoped>\n",
       "    .dataframe tbody tr th:only-of-type {\n",
       "        vertical-align: middle;\n",
       "    }\n",
       "\n",
       "    .dataframe tbody tr th {\n",
       "        vertical-align: top;\n",
       "    }\n",
       "\n",
       "    .dataframe thead th {\n",
       "        text-align: right;\n",
       "    }\n",
       "</style>\n",
       "<table border=\"1\" class=\"dataframe\">\n",
       "  <thead>\n",
       "    <tr style=\"text-align: right;\">\n",
       "      <th></th>\n",
       "      <th>prediction</th>\n",
       "    </tr>\n",
       "    <tr>\n",
       "      <th>qid</th>\n",
       "      <th></th>\n",
       "    </tr>\n",
       "  </thead>\n",
       "  <tbody>\n",
       "    <tr>\n",
       "      <th>0000163e3ea7c7a74cd7</th>\n",
       "      <td>1</td>\n",
       "    </tr>\n",
       "    <tr>\n",
       "      <th>00002bd4fb5d505b9161</th>\n",
       "      <td>0</td>\n",
       "    </tr>\n",
       "    <tr>\n",
       "      <th>00007756b4a147d2b0b3</th>\n",
       "      <td>0</td>\n",
       "    </tr>\n",
       "    <tr>\n",
       "      <th>000086e4b7e1c7146103</th>\n",
       "      <td>0</td>\n",
       "    </tr>\n",
       "    <tr>\n",
       "      <th>0000c4c3fbe8785a3090</th>\n",
       "      <td>0</td>\n",
       "    </tr>\n",
       "  </tbody>\n",
       "</table>\n",
       "</div>"
      ],
      "text/plain": [
       "                      prediction\n",
       "qid                             \n",
       "0000163e3ea7c7a74cd7           1\n",
       "00002bd4fb5d505b9161           0\n",
       "00007756b4a147d2b0b3           0\n",
       "000086e4b7e1c7146103           0\n",
       "0000c4c3fbe8785a3090           0"
      ]
     },
     "execution_count": 17,
     "metadata": {},
     "output_type": "execute_result"
    }
   ],
   "source": [
    "df_test.head()"
   ]
  },
  {
   "cell_type": "markdown",
   "metadata": {},
   "source": [
    "A Big Thanks to:\n",
    "\n",
    "* https://medium.com/greyatom/an-introduction-to-bag-of-words-in-nlp-ac967d43b428\n",
    "* https://medium.com/@paritosh_30025/natural-language-processing-text-data-vectorization-af2520529cf7\n",
    "\n",
    "\n",
    "\n",
    "![](https://www.humorside.com/wp-content/uploads/2017/12/thank-you-meme-01.jpg)\n"
   ]
  },
  {
   "cell_type": "code",
   "execution_count": 18,
   "metadata": {},
   "outputs": [],
   "source": []
  }
 ],
 "metadata": {
  "kernelspec": {
   "display_name": "Python 3",
   "language": "python",
   "name": "python3"
  },
  "language_info": {
   "codemirror_mode": {
    "name": "ipython",
    "version": 3
   },
   "file_extension": ".py",
   "mimetype": "text/x-python",
   "name": "python",
   "nbconvert_exporter": "python",
   "pygments_lexer": "ipython3",
   "version": "3.6.4"
  }
 },
 "nbformat": 4,
 "nbformat_minor": 4
}
